{
 "cells": [
  {
   "cell_type": "code",
   "execution_count": 2,
   "metadata": {},
   "outputs": [],
   "source": [
    "import pandas as pd\n",
    "import numpy as np\n",
    "import warnings\n",
    "warnings.filterwarnings(\"ignore\") "
   ]
  },
  {
   "cell_type": "code",
   "execution_count": 3,
   "metadata": {},
   "outputs": [],
   "source": [
    "rail = pd.read_excel('~/rail flows/привязки жд.xlsx')\n",
    "#flows_rail = pd.read_csv('~/rail flows/rail_flows_2019_test.csv', engine='python')"
   ]
  },
  {
   "cell_type": "code",
   "execution_count": 4,
   "metadata": {},
   "outputs": [
    {
     "data": {
      "text/html": [
       "<div>\n",
       "<style scoped>\n",
       "    .dataframe tbody tr th:only-of-type {\n",
       "        vertical-align: middle;\n",
       "    }\n",
       "\n",
       "    .dataframe tbody tr th {\n",
       "        vertical-align: top;\n",
       "    }\n",
       "\n",
       "    .dataframe thead th {\n",
       "        text-align: right;\n",
       "    }\n",
       "</style>\n",
       "<table border=\"1\" class=\"dataframe\">\n",
       "  <thead>\n",
       "    <tr style=\"text-align: right;\">\n",
       "      <th></th>\n",
       "      <th>its_code</th>\n",
       "      <th>corr</th>\n",
       "      <th>direction</th>\n",
       "    </tr>\n",
       "  </thead>\n",
       "  <tbody>\n",
       "    <tr>\n",
       "      <td>0</td>\n",
       "      <td>5</td>\n",
       "      <td>Минск - Москва</td>\n",
       "      <td>Обратное</td>\n",
       "    </tr>\n",
       "    <tr>\n",
       "      <td>1</td>\n",
       "      <td>9</td>\n",
       "      <td>Минск - Москва</td>\n",
       "      <td>Прямое</td>\n",
       "    </tr>\n",
       "    <tr>\n",
       "      <td>2</td>\n",
       "      <td>16</td>\n",
       "      <td>Москва - Кисловодск</td>\n",
       "      <td>Обратное</td>\n",
       "    </tr>\n",
       "    <tr>\n",
       "      <td>3</td>\n",
       "      <td>22</td>\n",
       "      <td>Москва - Кисловодск</td>\n",
       "      <td>Прямое</td>\n",
       "    </tr>\n",
       "    <tr>\n",
       "      <td>4</td>\n",
       "      <td>2205</td>\n",
       "      <td>Москва - Самара</td>\n",
       "      <td>Обратное</td>\n",
       "    </tr>\n",
       "    <tr>\n",
       "      <td>...</td>\n",
       "      <td>...</td>\n",
       "      <td>...</td>\n",
       "      <td>...</td>\n",
       "    </tr>\n",
       "    <tr>\n",
       "      <td>350</td>\n",
       "      <td>3435</td>\n",
       "      <td>Москва - Кострома</td>\n",
       "      <td>Обратное</td>\n",
       "    </tr>\n",
       "    <tr>\n",
       "      <td>351</td>\n",
       "      <td>3551</td>\n",
       "      <td>Москва - Вологда</td>\n",
       "      <td>Обратное</td>\n",
       "    </tr>\n",
       "    <tr>\n",
       "      <td>352</td>\n",
       "      <td>3590</td>\n",
       "      <td>Москва - Пенза</td>\n",
       "      <td>Обратное</td>\n",
       "    </tr>\n",
       "    <tr>\n",
       "      <td>353</td>\n",
       "      <td>3807</td>\n",
       "      <td>Москва - Назрань</td>\n",
       "      <td>Обратное</td>\n",
       "    </tr>\n",
       "    <tr>\n",
       "      <td>354</td>\n",
       "      <td>3811</td>\n",
       "      <td>Москва - Кисловодск</td>\n",
       "      <td>Обратное</td>\n",
       "    </tr>\n",
       "  </tbody>\n",
       "</table>\n",
       "<p>355 rows × 3 columns</p>\n",
       "</div>"
      ],
      "text/plain": [
       "     its_code                 corr direction\n",
       "0           5       Минск - Москва  Обратное\n",
       "1           9       Минск - Москва    Прямое\n",
       "2          16  Москва - Кисловодск  Обратное\n",
       "3          22  Москва - Кисловодск    Прямое\n",
       "4        2205      Москва - Самара  Обратное\n",
       "..        ...                  ...       ...\n",
       "350      3435    Москва - Кострома  Обратное\n",
       "351      3551     Москва - Вологда  Обратное\n",
       "352      3590       Москва - Пенза  Обратное\n",
       "353      3807     Москва - Назрань  Обратное\n",
       "354      3811  Москва - Кисловодск  Обратное\n",
       "\n",
       "[355 rows x 3 columns]"
      ]
     },
     "execution_count": 4,
     "metadata": {},
     "output_type": "execute_result"
    }
   ],
   "source": [
    "rail"
   ]
  },
  {
   "cell_type": "code",
   "execution_count": 7,
   "metadata": {},
   "outputs": [],
   "source": [
    "flows = pd.read_csv('/Users/eugenia/rail flows/rail_flows_2019_test.csv')"
   ]
  },
  {
   "cell_type": "code",
   "execution_count": 5,
   "metadata": {},
   "outputs": [
    {
     "data": {
      "text/html": [
       "<div>\n",
       "<style scoped>\n",
       "    .dataframe tbody tr th:only-of-type {\n",
       "        vertical-align: middle;\n",
       "    }\n",
       "\n",
       "    .dataframe tbody tr th {\n",
       "        vertical-align: top;\n",
       "    }\n",
       "\n",
       "    .dataframe thead th {\n",
       "        text-align: right;\n",
       "    }\n",
       "</style>\n",
       "<table border=\"1\" class=\"dataframe\">\n",
       "  <thead>\n",
       "    <tr style=\"text-align: right;\">\n",
       "      <th></th>\n",
       "      <th>№ пп</th>\n",
       "      <th>№ поезда</th>\n",
       "      <th>Сообщение</th>\n",
       "      <th>В пути</th>\n",
       "      <th>Пункт расцепки</th>\n",
       "      <th>В общем обороте</th>\n",
       "      <th>Количество составов в обороте</th>\n",
       "      <th>Unnamed: 7</th>\n",
       "      <th>Unnamed: 8</th>\n",
       "      <th>Кол-во вагонов</th>\n",
       "      <th>Электрификация участков на маршруте</th>\n",
       "      <th>Категория поезда</th>\n",
       "      <th>Признак двухэтажности</th>\n",
       "      <th>Комментарий</th>\n",
       "      <th>is_prt</th>\n",
       "      <th>is_present</th>\n",
       "      <th>its_code</th>\n",
       "      <th>Комментарий (возможный номер поезда у ИТС)</th>\n",
       "    </tr>\n",
       "  </thead>\n",
       "  <tbody>\n",
       "    <tr>\n",
       "      <td>0</td>\n",
       "      <td>1</td>\n",
       "      <td>11</td>\n",
       "      <td>Москва Пав. - Анапа/Новороссийск</td>\n",
       "      <td>16:00/15:00</td>\n",
       "      <td>Рзд. 9 км</td>\n",
       "      <td>43,125, 151,177</td>\n",
       "      <td></td>\n",
       "      <td>6</td>\n",
       "      <td></td>\n",
       "      <td>72</td>\n",
       "      <td>Полностью электрифицированы</td>\n",
       "      <td>Скорые сезонного и разового обращения</td>\n",
       "      <td>NaN</td>\n",
       "      <td>Приняты без общего оборота, размер движения ус...</td>\n",
       "      <td>1.0</td>\n",
       "      <td>1</td>\n",
       "      <td>77.0</td>\n",
       "      <td>NaN</td>\n",
       "    </tr>\n",
       "  </tbody>\n",
       "</table>\n",
       "</div>"
      ],
      "text/plain": [
       "  № пп № поезда                         Сообщение        В пути   \\\n",
       "0    1        11  Москва Пав. - Анапа/Новороссийск  16:00/15:00    \n",
       "\n",
       "  Пункт расцепки   В общем обороте  Количество составов в обороте  Unnamed: 7  \\\n",
       "0      Рзд. 9 км   43,125, 151,177                                          6   \n",
       "\n",
       "  Unnamed: 8 Кол-во вагонов  Электрификация участков на маршруте  \\\n",
       "0                         72         Полностью электрифицированы   \n",
       "\n",
       "                        Категория поезда Признак двухэтажности  \\\n",
       "0  Скорые сезонного и разового обращения                   NaN   \n",
       "\n",
       "                                        Комментарий   is_prt  is_present  \\\n",
       "0  Приняты без общего оборота, размер движения ус...     1.0           1   \n",
       "\n",
       "   its_code  Комментарий (возможный номер поезда у ИТС)  \n",
       "0      77.0                                         NaN  "
      ]
     },
     "execution_count": 5,
     "metadata": {},
     "output_type": "execute_result"
    }
   ],
   "source": [
    "is_present = pd.read_excel('~/rail flows/is_pres1.xlsx')\n",
    "is_present.head(1)"
   ]
  },
  {
   "cell_type": "code",
   "execution_count": 72,
   "metadata": {},
   "outputs": [],
   "source": [
    "list_of_codes = []\n",
    "additional = []\n",
    "for i, r in is_present.iterrows():\n",
    "    if r['is_present'] == 1:\n",
    "        list_of_codes.append(r['its_code'])\n",
    "        additional.append(r['Комментарий (возможный номер поезда у ИТС)'])\n",
    "additional = [num for num in additional if str(num) != 'nan']\n",
    "list_of_codes = [num for num in list_of_codes if str(num) != 'nan']\n",
    "#all_codes = list_of_codes + additional"
   ]
  },
  {
   "cell_type": "code",
   "execution_count": 20,
   "metadata": {},
   "outputs": [],
   "source": [
    "routes = list(rail['corr'].drop_duplicates())"
   ]
  },
  {
   "cell_type": "code",
   "execution_count": 62,
   "metadata": {},
   "outputs": [],
   "source": [
    "%%capture\n",
    "from tqdm import tqdm_notebook as tqdm\n",
    "tqdm().pandas()"
   ]
  },
  {
   "cell_type": "code",
   "execution_count": 78,
   "metadata": {},
   "outputs": [
    {
     "data": {
      "application/vnd.jupyter.widget-view+json": {
       "model_id": "cdc4b0930b8942458461f1f2310e3dfa",
       "version_major": 2,
       "version_minor": 0
      },
      "text/plain": [
       "HBox(children=(IntProgress(value=0, max=33), HTML(value='')))"
      ]
     },
     "metadata": {},
     "output_type": "display_data"
    },
    {
     "name": "stdout",
     "output_type": "stream",
     "text": [
      "\n"
     ]
    }
   ],
   "source": [
    "routes_and_corrs = pd.DataFrame()\n",
    "with tqdm(total=len(routes)) as pbar:\n",
    "    for route in routes:\n",
    "        codes = list(rail[rail['corr'] == route]['its_code'])\n",
    "        corrs_by_route = []\n",
    "        sub_flows = flows[flows.nits_id.isin(codes)] # все поезда, относящиеся к маршруту\n",
    "        sub_flows['corr'] = 0\n",
    "        # колонка с корреспонденциями\n",
    "        for ind, row in sub_flows.iterrows():\n",
    "            sub_flows['corr'][ind] = row['plo_source_flow_name'].title() + ' - ' + row['plo_target_flow_name'].title()\n",
    "\n",
    "        route_corrs = sub_flows.groupby(by=['plo_source_flow_name', 'plo_target_flow_name','corr', 'nits_id'], as_index=False)['flows'].sum()\n",
    "\n",
    "        # потоки конкретных поездов внутри каждой корреспонденции\n",
    "\n",
    "        # датафрейм:\n",
    "        \n",
    "        route_corrs.insert(loc=0, column='route', value=route)\n",
    "        routes_and_corrs = routes_and_corrs.append(route_corrs).reset_index(drop=True)\n",
    "        pbar.update(1)"
   ]
  },
  {
   "cell_type": "code",
   "execution_count": 77,
   "metadata": {},
   "outputs": [],
   "source": [
    "routes_and_corrs.to_excel('routes_corrs.xlsx')"
   ]
  },
  {
   "cell_type": "code",
   "execution_count": 67,
   "metadata": {},
   "outputs": [],
   "source": [
    "routes_and_corrs['in_project'] = 0\n",
    "routes_and_corrs['not_included'] = 0\n",
    "for ind, row in routes_and_corrs.iterrows():\n",
    "    if row['nits_id'] in list_of_codes:\n",
    "        routes_and_corrs['in_project'][ind] = row['flows']\n",
    "    else:\n",
    "        routes_and_corrs['not_included'][ind] = row['flows']"
   ]
  },
  {
   "cell_type": "code",
   "execution_count": 69,
   "metadata": {},
   "outputs": [],
   "source": [
    "routes_and_corrs.to_excel('fin_routes.xlsx')"
   ]
  },
  {
   "cell_type": "code",
   "execution_count": 20,
   "metadata": {
    "collapsed": true,
    "jupyter": {
     "outputs_hidden": true
    }
   },
   "outputs": [
    {
     "ename": "KeyboardInterrupt",
     "evalue": "",
     "output_type": "error",
     "traceback": [
      "\u001b[0;31m---------------------------------------------------------------------------\u001b[0m",
      "\u001b[0;31mKeyboardInterrupt\u001b[0m                         Traceback (most recent call last)",
      "\u001b[0;32m<ipython-input-20-1853eb60442c>\u001b[0m in \u001b[0;36m<module>\u001b[0;34m\u001b[0m\n\u001b[1;32m      2\u001b[0m \u001b[0mflows_grouped\u001b[0m\u001b[0;34m[\u001b[0m\u001b[0;34m'corr'\u001b[0m\u001b[0;34m]\u001b[0m \u001b[0;34m=\u001b[0m \u001b[0;36m0\u001b[0m\u001b[0;34m\u001b[0m\u001b[0;34m\u001b[0m\u001b[0m\n\u001b[1;32m      3\u001b[0m \u001b[0;32mfor\u001b[0m \u001b[0mind\u001b[0m\u001b[0;34m,\u001b[0m \u001b[0mrow\u001b[0m \u001b[0;32min\u001b[0m \u001b[0mflows_grouped\u001b[0m\u001b[0;34m.\u001b[0m\u001b[0miterrows\u001b[0m\u001b[0;34m(\u001b[0m\u001b[0;34m)\u001b[0m\u001b[0;34m:\u001b[0m\u001b[0;34m\u001b[0m\u001b[0;34m\u001b[0m\u001b[0m\n\u001b[0;32m----> 4\u001b[0;31m             \u001b[0mflows_grouped\u001b[0m\u001b[0;34m[\u001b[0m\u001b[0;34m'corr'\u001b[0m\u001b[0;34m]\u001b[0m\u001b[0;34m[\u001b[0m\u001b[0mind\u001b[0m\u001b[0;34m]\u001b[0m \u001b[0;34m=\u001b[0m \u001b[0mrow\u001b[0m\u001b[0;34m[\u001b[0m\u001b[0;34m'plo_source_flow_name'\u001b[0m\u001b[0;34m]\u001b[0m\u001b[0;34m.\u001b[0m\u001b[0mtitle\u001b[0m\u001b[0;34m(\u001b[0m\u001b[0;34m)\u001b[0m \u001b[0;34m+\u001b[0m \u001b[0;34m' - '\u001b[0m \u001b[0;34m+\u001b[0m \u001b[0mrow\u001b[0m\u001b[0;34m[\u001b[0m\u001b[0;34m'plo_target_flow_name'\u001b[0m\u001b[0;34m]\u001b[0m\u001b[0;34m.\u001b[0m\u001b[0mtitle\u001b[0m\u001b[0;34m(\u001b[0m\u001b[0;34m)\u001b[0m\u001b[0;34m\u001b[0m\u001b[0;34m\u001b[0m\u001b[0m\n\u001b[0m",
      "\u001b[0;32m/opt/anaconda3/lib/python3.7/site-packages/pandas/core/series.py\u001b[0m in \u001b[0;36m__setitem__\u001b[0;34m(self, key, value)\u001b[0m\n\u001b[1;32m   1241\u001b[0m         \u001b[0msetitem\u001b[0m\u001b[0;34m(\u001b[0m\u001b[0mkey\u001b[0m\u001b[0;34m,\u001b[0m \u001b[0mvalue\u001b[0m\u001b[0;34m)\u001b[0m\u001b[0;34m\u001b[0m\u001b[0;34m\u001b[0m\u001b[0m\n\u001b[1;32m   1242\u001b[0m         \u001b[0;32mif\u001b[0m \u001b[0mcacher_needs_updating\u001b[0m\u001b[0;34m:\u001b[0m\u001b[0;34m\u001b[0m\u001b[0;34m\u001b[0m\u001b[0m\n\u001b[0;32m-> 1243\u001b[0;31m             \u001b[0mself\u001b[0m\u001b[0;34m.\u001b[0m\u001b[0m_maybe_update_cacher\u001b[0m\u001b[0;34m(\u001b[0m\u001b[0;34m)\u001b[0m\u001b[0;34m\u001b[0m\u001b[0;34m\u001b[0m\u001b[0m\n\u001b[0m\u001b[1;32m   1244\u001b[0m \u001b[0;34m\u001b[0m\u001b[0m\n\u001b[1;32m   1245\u001b[0m     \u001b[0;32mdef\u001b[0m \u001b[0m_set_with_engine\u001b[0m\u001b[0;34m(\u001b[0m\u001b[0mself\u001b[0m\u001b[0;34m,\u001b[0m \u001b[0mkey\u001b[0m\u001b[0;34m,\u001b[0m \u001b[0mvalue\u001b[0m\u001b[0;34m)\u001b[0m\u001b[0;34m:\u001b[0m\u001b[0;34m\u001b[0m\u001b[0;34m\u001b[0m\u001b[0m\n",
      "\u001b[0;32m/opt/anaconda3/lib/python3.7/site-packages/pandas/core/generic.py\u001b[0m in \u001b[0;36m_maybe_update_cacher\u001b[0;34m(self, clear, verify_is_copy)\u001b[0m\n\u001b[1;32m   3346\u001b[0m             \u001b[0;32melse\u001b[0m\u001b[0;34m:\u001b[0m\u001b[0;34m\u001b[0m\u001b[0;34m\u001b[0m\u001b[0m\n\u001b[1;32m   3347\u001b[0m                 \u001b[0;32mtry\u001b[0m\u001b[0;34m:\u001b[0m\u001b[0;34m\u001b[0m\u001b[0;34m\u001b[0m\u001b[0m\n\u001b[0;32m-> 3348\u001b[0;31m                     \u001b[0mref\u001b[0m\u001b[0;34m.\u001b[0m\u001b[0m_maybe_cache_changed\u001b[0m\u001b[0;34m(\u001b[0m\u001b[0mcacher\u001b[0m\u001b[0;34m[\u001b[0m\u001b[0;36m0\u001b[0m\u001b[0;34m]\u001b[0m\u001b[0;34m,\u001b[0m \u001b[0mself\u001b[0m\u001b[0;34m)\u001b[0m\u001b[0;34m\u001b[0m\u001b[0;34m\u001b[0m\u001b[0m\n\u001b[0m\u001b[1;32m   3349\u001b[0m                 \u001b[0;32mexcept\u001b[0m \u001b[0mException\u001b[0m\u001b[0;34m:\u001b[0m\u001b[0;34m\u001b[0m\u001b[0;34m\u001b[0m\u001b[0m\n\u001b[1;32m   3350\u001b[0m                     \u001b[0;32mpass\u001b[0m\u001b[0;34m\u001b[0m\u001b[0;34m\u001b[0m\u001b[0m\n",
      "\u001b[0;32m/opt/anaconda3/lib/python3.7/site-packages/pandas/core/generic.py\u001b[0m in \u001b[0;36m_maybe_cache_changed\u001b[0;34m(self, item, value)\u001b[0m\n\u001b[1;32m   3303\u001b[0m         \"\"\"The object has called back to us saying maybe it has changed.\n\u001b[1;32m   3304\u001b[0m         \"\"\"\n\u001b[0;32m-> 3305\u001b[0;31m         \u001b[0mself\u001b[0m\u001b[0;34m.\u001b[0m\u001b[0m_data\u001b[0m\u001b[0;34m.\u001b[0m\u001b[0mset\u001b[0m\u001b[0;34m(\u001b[0m\u001b[0mitem\u001b[0m\u001b[0;34m,\u001b[0m \u001b[0mvalue\u001b[0m\u001b[0;34m)\u001b[0m\u001b[0;34m\u001b[0m\u001b[0;34m\u001b[0m\u001b[0m\n\u001b[0m\u001b[1;32m   3306\u001b[0m \u001b[0;34m\u001b[0m\u001b[0m\n\u001b[1;32m   3307\u001b[0m     \u001b[0;34m@\u001b[0m\u001b[0mproperty\u001b[0m\u001b[0;34m\u001b[0m\u001b[0;34m\u001b[0m\u001b[0m\n",
      "\u001b[0;32m/opt/anaconda3/lib/python3.7/site-packages/pandas/core/internals/managers.py\u001b[0m in \u001b[0;36mset\u001b[0;34m(self, item, value)\u001b[0m\n\u001b[1;32m   1088\u001b[0m             \u001b[0mblk_locs\u001b[0m \u001b[0;34m=\u001b[0m \u001b[0mblklocs\u001b[0m\u001b[0;34m[\u001b[0m\u001b[0mval_locs\u001b[0m\u001b[0;34m.\u001b[0m\u001b[0mindexer\u001b[0m\u001b[0;34m]\u001b[0m\u001b[0;34m\u001b[0m\u001b[0;34m\u001b[0m\u001b[0m\n\u001b[1;32m   1089\u001b[0m             \u001b[0;32mif\u001b[0m \u001b[0mblk\u001b[0m\u001b[0;34m.\u001b[0m\u001b[0mshould_store\u001b[0m\u001b[0;34m(\u001b[0m\u001b[0mvalue\u001b[0m\u001b[0;34m)\u001b[0m\u001b[0;34m:\u001b[0m\u001b[0;34m\u001b[0m\u001b[0;34m\u001b[0m\u001b[0m\n\u001b[0;32m-> 1090\u001b[0;31m                 \u001b[0mblk\u001b[0m\u001b[0;34m.\u001b[0m\u001b[0mset\u001b[0m\u001b[0;34m(\u001b[0m\u001b[0mblk_locs\u001b[0m\u001b[0;34m,\u001b[0m \u001b[0mvalue_getitem\u001b[0m\u001b[0;34m(\u001b[0m\u001b[0mval_locs\u001b[0m\u001b[0;34m)\u001b[0m\u001b[0;34m)\u001b[0m\u001b[0;34m\u001b[0m\u001b[0;34m\u001b[0m\u001b[0m\n\u001b[0m\u001b[1;32m   1091\u001b[0m             \u001b[0;32melse\u001b[0m\u001b[0;34m:\u001b[0m\u001b[0;34m\u001b[0m\u001b[0;34m\u001b[0m\u001b[0m\n\u001b[1;32m   1092\u001b[0m                 \u001b[0munfit_mgr_locs\u001b[0m\u001b[0;34m.\u001b[0m\u001b[0mappend\u001b[0m\u001b[0;34m(\u001b[0m\u001b[0mblk\u001b[0m\u001b[0;34m.\u001b[0m\u001b[0mmgr_locs\u001b[0m\u001b[0;34m.\u001b[0m\u001b[0mas_array\u001b[0m\u001b[0;34m[\u001b[0m\u001b[0mblk_locs\u001b[0m\u001b[0;34m]\u001b[0m\u001b[0;34m)\u001b[0m\u001b[0;34m\u001b[0m\u001b[0;34m\u001b[0m\u001b[0m\n",
      "\u001b[0;32m/opt/anaconda3/lib/python3.7/site-packages/pandas/core/internals/blocks.py\u001b[0m in \u001b[0;36mset\u001b[0;34m(self, locs, values)\u001b[0m\n\u001b[1;32m    378\u001b[0m         \u001b[0;32mNone\u001b[0m\u001b[0;34m\u001b[0m\u001b[0;34m\u001b[0m\u001b[0m\n\u001b[1;32m    379\u001b[0m         \"\"\"\n\u001b[0;32m--> 380\u001b[0;31m         \u001b[0mself\u001b[0m\u001b[0;34m.\u001b[0m\u001b[0mvalues\u001b[0m\u001b[0;34m[\u001b[0m\u001b[0mlocs\u001b[0m\u001b[0;34m]\u001b[0m \u001b[0;34m=\u001b[0m \u001b[0mvalues\u001b[0m\u001b[0;34m\u001b[0m\u001b[0;34m\u001b[0m\u001b[0m\n\u001b[0m\u001b[1;32m    381\u001b[0m \u001b[0;34m\u001b[0m\u001b[0m\n\u001b[1;32m    382\u001b[0m     \u001b[0;32mdef\u001b[0m \u001b[0mdelete\u001b[0m\u001b[0;34m(\u001b[0m\u001b[0mself\u001b[0m\u001b[0;34m,\u001b[0m \u001b[0mloc\u001b[0m\u001b[0;34m)\u001b[0m\u001b[0;34m:\u001b[0m\u001b[0;34m\u001b[0m\u001b[0;34m\u001b[0m\u001b[0m\n",
      "\u001b[0;31mKeyboardInterrupt\u001b[0m: "
     ]
    }
   ],
   "source": [
    "flows_grouped = flows.groupby(by=['plo_source_flow_name', 'plo_target_flow_name', 'nits_id'], as_index=False)['flows'].sum()\n",
    "flows_grouped['corr'] = 0\n",
    "for ind, row in flows_grouped.iterrows():\n",
    "            flows_grouped['corr'][ind] = row['plo_source_flow_name'].title() + ' - ' + row['plo_target_flow_name'].title()"
   ]
  },
  {
   "cell_type": "code",
   "execution_count": 28,
   "metadata": {
    "collapsed": true,
    "jupyter": {
     "outputs_hidden": true
    }
   },
   "outputs": [
    {
     "ename": "KeyboardInterrupt",
     "evalue": "",
     "output_type": "error",
     "traceback": [
      "\u001b[0;31m---------------------------------------------------------------------------\u001b[0m",
      "\u001b[0;31mKeyboardInterrupt\u001b[0m                         Traceback (most recent call last)",
      "\u001b[0;32m<ipython-input-28-6c77c7151903>\u001b[0m in \u001b[0;36m<module>\u001b[0;34m\u001b[0m\n\u001b[1;32m      2\u001b[0m \u001b[0;32mfor\u001b[0m \u001b[0mind\u001b[0m\u001b[0;34m,\u001b[0m \u001b[0mrow\u001b[0m \u001b[0;32min\u001b[0m \u001b[0mroutes_and_corrs\u001b[0m\u001b[0;34m.\u001b[0m\u001b[0miterrows\u001b[0m\u001b[0;34m(\u001b[0m\u001b[0;34m)\u001b[0m\u001b[0;34m:\u001b[0m\u001b[0;34m\u001b[0m\u001b[0;34m\u001b[0m\u001b[0m\n\u001b[1;32m      3\u001b[0m     \u001b[0;32mif\u001b[0m \u001b[0mrow\u001b[0m\u001b[0;34m[\u001b[0m\u001b[0;34m'nits_id'\u001b[0m\u001b[0;34m]\u001b[0m \u001b[0;32mnot\u001b[0m \u001b[0;32min\u001b[0m \u001b[0mlist_of_codes\u001b[0m\u001b[0;34m:\u001b[0m\u001b[0;34m\u001b[0m\u001b[0;34m\u001b[0m\u001b[0m\n\u001b[0;32m----> 4\u001b[0;31m         \u001b[0mroutes_and_corrs\u001b[0m\u001b[0;34m[\u001b[0m\u001b[0;34m'all_flows'\u001b[0m\u001b[0;34m]\u001b[0m\u001b[0;34m[\u001b[0m\u001b[0mind\u001b[0m\u001b[0;34m]\u001b[0m \u001b[0;34m=\u001b[0m \u001b[0mflows_grouped\u001b[0m\u001b[0;34m[\u001b[0m\u001b[0;34m(\u001b[0m\u001b[0mflows_grouped\u001b[0m\u001b[0;34m[\u001b[0m\u001b[0;34m'plo_source_flow_name'\u001b[0m\u001b[0;34m]\u001b[0m \u001b[0;34m==\u001b[0m \u001b[0mrow\u001b[0m\u001b[0;34m[\u001b[0m\u001b[0;34m'plo_source_flow_name'\u001b[0m\u001b[0;34m]\u001b[0m\u001b[0;34m)\u001b[0m \u001b[0;34m&\u001b[0m \u001b[0;34m(\u001b[0m\u001b[0mflows_grouped\u001b[0m\u001b[0;34m[\u001b[0m\u001b[0;34m'plo_target_flow_name'\u001b[0m\u001b[0;34m]\u001b[0m \u001b[0;34m==\u001b[0m \u001b[0mrow\u001b[0m\u001b[0;34m[\u001b[0m\u001b[0;34m'plo_target_flow_name'\u001b[0m\u001b[0;34m]\u001b[0m\u001b[0;34m)\u001b[0m \u001b[0;34m&\u001b[0m \u001b[0;34m(\u001b[0m\u001b[0mflows_grouped\u001b[0m\u001b[0;34m[\u001b[0m\u001b[0;34m'nits_id'\u001b[0m\u001b[0;34m]\u001b[0m \u001b[0;34m==\u001b[0m \u001b[0mrow\u001b[0m\u001b[0;34m[\u001b[0m\u001b[0;34m'nits_id'\u001b[0m\u001b[0;34m]\u001b[0m\u001b[0;34m)\u001b[0m\u001b[0;34m]\u001b[0m\u001b[0;34m[\u001b[0m\u001b[0;34m'flows'\u001b[0m\u001b[0;34m]\u001b[0m\u001b[0;34m\u001b[0m\u001b[0;34m\u001b[0m\u001b[0m\n\u001b[0m",
      "\u001b[0;32m/opt/anaconda3/lib/python3.7/site-packages/pandas/core/ops/__init__.py\u001b[0m in \u001b[0;36mwrapper\u001b[0;34m(self, other, axis)\u001b[0m\n\u001b[1;32m   1227\u001b[0m \u001b[0;34m\u001b[0m\u001b[0m\n\u001b[1;32m   1228\u001b[0m             \u001b[0;32mwith\u001b[0m \u001b[0mnp\u001b[0m\u001b[0;34m.\u001b[0m\u001b[0merrstate\u001b[0m\u001b[0;34m(\u001b[0m\u001b[0mall\u001b[0m\u001b[0;34m=\u001b[0m\u001b[0;34m\"ignore\"\u001b[0m\u001b[0;34m)\u001b[0m\u001b[0;34m:\u001b[0m\u001b[0;34m\u001b[0m\u001b[0;34m\u001b[0m\u001b[0m\n\u001b[0;32m-> 1229\u001b[0;31m                 \u001b[0mres\u001b[0m \u001b[0;34m=\u001b[0m \u001b[0mna_op\u001b[0m\u001b[0;34m(\u001b[0m\u001b[0mvalues\u001b[0m\u001b[0;34m,\u001b[0m \u001b[0mother\u001b[0m\u001b[0;34m)\u001b[0m\u001b[0;34m\u001b[0m\u001b[0;34m\u001b[0m\u001b[0m\n\u001b[0m\u001b[1;32m   1230\u001b[0m             \u001b[0;32mif\u001b[0m \u001b[0mis_scalar\u001b[0m\u001b[0;34m(\u001b[0m\u001b[0mres\u001b[0m\u001b[0;34m)\u001b[0m\u001b[0;34m:\u001b[0m\u001b[0;34m\u001b[0m\u001b[0;34m\u001b[0m\u001b[0m\n\u001b[1;32m   1231\u001b[0m                 raise TypeError(\n",
      "\u001b[0;32m/opt/anaconda3/lib/python3.7/site-packages/pandas/core/ops/__init__.py\u001b[0m in \u001b[0;36mna_op\u001b[0;34m(x, y)\u001b[0m\n\u001b[1;32m   1089\u001b[0m \u001b[0;34m\u001b[0m\u001b[0m\n\u001b[1;32m   1090\u001b[0m         \u001b[0;32mif\u001b[0m \u001b[0mis_object_dtype\u001b[0m\u001b[0;34m(\u001b[0m\u001b[0mx\u001b[0m\u001b[0;34m.\u001b[0m\u001b[0mdtype\u001b[0m\u001b[0;34m)\u001b[0m\u001b[0;34m:\u001b[0m\u001b[0;34m\u001b[0m\u001b[0;34m\u001b[0m\u001b[0m\n\u001b[0;32m-> 1091\u001b[0;31m             \u001b[0mresult\u001b[0m \u001b[0;34m=\u001b[0m \u001b[0m_comp_method_OBJECT_ARRAY\u001b[0m\u001b[0;34m(\u001b[0m\u001b[0mop\u001b[0m\u001b[0;34m,\u001b[0m \u001b[0mx\u001b[0m\u001b[0;34m,\u001b[0m \u001b[0my\u001b[0m\u001b[0;34m)\u001b[0m\u001b[0;34m\u001b[0m\u001b[0;34m\u001b[0m\u001b[0m\n\u001b[0m\u001b[1;32m   1092\u001b[0m \u001b[0;34m\u001b[0m\u001b[0m\n\u001b[1;32m   1093\u001b[0m         \u001b[0;32melif\u001b[0m \u001b[0mis_datetimelike_v_numeric\u001b[0m\u001b[0;34m(\u001b[0m\u001b[0mx\u001b[0m\u001b[0;34m,\u001b[0m \u001b[0my\u001b[0m\u001b[0;34m)\u001b[0m\u001b[0;34m:\u001b[0m\u001b[0;34m\u001b[0m\u001b[0;34m\u001b[0m\u001b[0m\n",
      "\u001b[0;32m/opt/anaconda3/lib/python3.7/site-packages/pandas/core/ops/__init__.py\u001b[0m in \u001b[0;36m_comp_method_OBJECT_ARRAY\u001b[0;34m(op, x, y)\u001b[0m\n\u001b[1;32m   1067\u001b[0m         \u001b[0mresult\u001b[0m \u001b[0;34m=\u001b[0m \u001b[0mlibops\u001b[0m\u001b[0;34m.\u001b[0m\u001b[0mvec_compare\u001b[0m\u001b[0;34m(\u001b[0m\u001b[0mx\u001b[0m\u001b[0;34m,\u001b[0m \u001b[0my\u001b[0m\u001b[0;34m,\u001b[0m \u001b[0mop\u001b[0m\u001b[0;34m)\u001b[0m\u001b[0;34m\u001b[0m\u001b[0;34m\u001b[0m\u001b[0m\n\u001b[1;32m   1068\u001b[0m     \u001b[0;32melse\u001b[0m\u001b[0;34m:\u001b[0m\u001b[0;34m\u001b[0m\u001b[0;34m\u001b[0m\u001b[0m\n\u001b[0;32m-> 1069\u001b[0;31m         \u001b[0mresult\u001b[0m \u001b[0;34m=\u001b[0m \u001b[0mlibops\u001b[0m\u001b[0;34m.\u001b[0m\u001b[0mscalar_compare\u001b[0m\u001b[0;34m(\u001b[0m\u001b[0mx\u001b[0m\u001b[0;34m,\u001b[0m \u001b[0my\u001b[0m\u001b[0;34m,\u001b[0m \u001b[0mop\u001b[0m\u001b[0;34m)\u001b[0m\u001b[0;34m\u001b[0m\u001b[0;34m\u001b[0m\u001b[0m\n\u001b[0m\u001b[1;32m   1070\u001b[0m     \u001b[0;32mreturn\u001b[0m \u001b[0mresult\u001b[0m\u001b[0;34m\u001b[0m\u001b[0;34m\u001b[0m\u001b[0m\n\u001b[1;32m   1071\u001b[0m \u001b[0;34m\u001b[0m\u001b[0m\n",
      "\u001b[0;31mKeyboardInterrupt\u001b[0m: "
     ]
    }
   ],
   "source": [
    "routes_and_corrs['all_flows'] = 0\n",
    "for ind, row in routes_and_corrs.iterrows():\n",
    "    if row['nits_id'] not in list_of_codes:\n",
    "        routes_and_corrs['all_flows'][ind] = flows_grouped[(flows_grouped['plo_source_flow_name'] == row['plo_source_flow_name']) & (flows_grouped['plo_target_flow_name'] == row['plo_target_flow_name']) & (flows_grouped['nits_id'] == row['nits_id'])]['flows']"
   ]
  },
  {
   "cell_type": "code",
   "execution_count": 51,
   "metadata": {},
   "outputs": [
    {
     "data": {
      "text/html": [
       "<div>\n",
       "<style scoped>\n",
       "    .dataframe tbody tr th:only-of-type {\n",
       "        vertical-align: middle;\n",
       "    }\n",
       "\n",
       "    .dataframe tbody tr th {\n",
       "        vertical-align: top;\n",
       "    }\n",
       "\n",
       "    .dataframe thead th {\n",
       "        text-align: right;\n",
       "    }\n",
       "</style>\n",
       "<table border=\"1\" class=\"dataframe\">\n",
       "  <thead>\n",
       "    <tr style=\"text-align: right;\">\n",
       "      <th></th>\n",
       "      <th>route</th>\n",
       "      <th>plo_source_flow_name</th>\n",
       "      <th>plo_target_flow_name</th>\n",
       "      <th>corr</th>\n",
       "      <th>nits_id</th>\n",
       "      <th>flows</th>\n",
       "      <th>in_project</th>\n",
       "      <th>not_included</th>\n",
       "      <th>all_flows</th>\n",
       "    </tr>\n",
       "  </thead>\n",
       "  <tbody>\n",
       "    <tr>\n",
       "      <td>0</td>\n",
       "      <td>Москва - Адлер</td>\n",
       "      <td>АДЛЕР</td>\n",
       "      <td>АРМАВИР ТУАПСИНСКИЙ</td>\n",
       "      <td>Адлер - Армавир Туапсинский</td>\n",
       "      <td>858</td>\n",
       "      <td>72</td>\n",
       "      <td>72</td>\n",
       "      <td>0</td>\n",
       "      <td>0</td>\n",
       "    </tr>\n",
       "    <tr>\n",
       "      <td>1</td>\n",
       "      <td>Москва - Адлер</td>\n",
       "      <td>АДЛЕР</td>\n",
       "      <td>АРМАВИР ТУАПСИНСКИЙ</td>\n",
       "      <td>Адлер - Армавир Туапсинский</td>\n",
       "      <td>2146</td>\n",
       "      <td>304</td>\n",
       "      <td>0</td>\n",
       "      <td>304</td>\n",
       "      <td>304</td>\n",
       "    </tr>\n",
       "    <tr>\n",
       "      <td>2</td>\n",
       "      <td>Москва - Адлер</td>\n",
       "      <td>АДЛЕР</td>\n",
       "      <td>БЕЛОРЕЧЕНСКАЯ</td>\n",
       "      <td>Адлер - Белореченская</td>\n",
       "      <td>858</td>\n",
       "      <td>17</td>\n",
       "      <td>17</td>\n",
       "      <td>0</td>\n",
       "      <td>0</td>\n",
       "    </tr>\n",
       "    <tr>\n",
       "      <td>3</td>\n",
       "      <td>Москва - Адлер</td>\n",
       "      <td>АДЛЕР</td>\n",
       "      <td>БЕЛОРЕЧЕНСКАЯ</td>\n",
       "      <td>Адлер - Белореченская</td>\n",
       "      <td>2146</td>\n",
       "      <td>73</td>\n",
       "      <td>0</td>\n",
       "      <td>73</td>\n",
       "      <td>73</td>\n",
       "    </tr>\n",
       "    <tr>\n",
       "      <td>4</td>\n",
       "      <td>Москва - Адлер</td>\n",
       "      <td>АДЛЕР</td>\n",
       "      <td>БОГОЯВЛЕНСК</td>\n",
       "      <td>Адлер - Богоявленск</td>\n",
       "      <td>1112</td>\n",
       "      <td>1</td>\n",
       "      <td>0</td>\n",
       "      <td>1</td>\n",
       "      <td>1</td>\n",
       "    </tr>\n",
       "    <tr>\n",
       "      <td>...</td>\n",
       "      <td>...</td>\n",
       "      <td>...</td>\n",
       "      <td>...</td>\n",
       "      <td>...</td>\n",
       "      <td>...</td>\n",
       "      <td>...</td>\n",
       "      <td>...</td>\n",
       "      <td>...</td>\n",
       "      <td>...</td>\n",
       "    </tr>\n",
       "    <tr>\n",
       "      <td>28490</td>\n",
       "      <td>Минск - Москва</td>\n",
       "      <td>ТОЛОЧИН</td>\n",
       "      <td>МИНСК-ПАССАЖИРСКИЙ</td>\n",
       "      <td>Толочин - Минск-Пассажирский</td>\n",
       "      <td>176</td>\n",
       "      <td>3070</td>\n",
       "      <td>0</td>\n",
       "      <td>3070</td>\n",
       "      <td>0</td>\n",
       "    </tr>\n",
       "    <tr>\n",
       "      <td>28491</td>\n",
       "      <td>Минск - Москва</td>\n",
       "      <td>ТОЛОЧИН</td>\n",
       "      <td>МОСКВА БЕЛОРУССКАЯ</td>\n",
       "      <td>Толочин - Москва Белорусская</td>\n",
       "      <td>179</td>\n",
       "      <td>1103</td>\n",
       "      <td>1103</td>\n",
       "      <td>0</td>\n",
       "      <td>0</td>\n",
       "    </tr>\n",
       "    <tr>\n",
       "      <td>28492</td>\n",
       "      <td>Минск - Москва</td>\n",
       "      <td>ТОЛОЧИН</td>\n",
       "      <td>МОСКВА БЕЛОРУССКАЯ</td>\n",
       "      <td>Толочин - Москва Белорусская</td>\n",
       "      <td>959</td>\n",
       "      <td>2</td>\n",
       "      <td>0</td>\n",
       "      <td>2</td>\n",
       "      <td>0</td>\n",
       "    </tr>\n",
       "    <tr>\n",
       "      <td>28493</td>\n",
       "      <td>Минск - Москва</td>\n",
       "      <td>ТОЛОЧИН</td>\n",
       "      <td>ОРША-ЦЕНТРАЛЬНАЯ</td>\n",
       "      <td>Толочин - Орша-Центральная</td>\n",
       "      <td>179</td>\n",
       "      <td>1</td>\n",
       "      <td>1</td>\n",
       "      <td>0</td>\n",
       "      <td>0</td>\n",
       "    </tr>\n",
       "    <tr>\n",
       "      <td>28494</td>\n",
       "      <td>Минск - Москва</td>\n",
       "      <td>ТОЛОЧИН</td>\n",
       "      <td>СМОЛЕНСК ЦЕНТРАЛЬНЫЙ</td>\n",
       "      <td>Толочин - Смоленск Центральный</td>\n",
       "      <td>179</td>\n",
       "      <td>15</td>\n",
       "      <td>15</td>\n",
       "      <td>0</td>\n",
       "      <td>0</td>\n",
       "    </tr>\n",
       "  </tbody>\n",
       "</table>\n",
       "<p>28495 rows × 9 columns</p>\n",
       "</div>"
      ],
      "text/plain": [
       "                route plo_source_flow_name  plo_target_flow_name  \\\n",
       "0      Москва - Адлер                АДЛЕР   АРМАВИР ТУАПСИНСКИЙ   \n",
       "1      Москва - Адлер                АДЛЕР   АРМАВИР ТУАПСИНСКИЙ   \n",
       "2      Москва - Адлер                АДЛЕР         БЕЛОРЕЧЕНСКАЯ   \n",
       "3      Москва - Адлер                АДЛЕР         БЕЛОРЕЧЕНСКАЯ   \n",
       "4      Москва - Адлер                АДЛЕР           БОГОЯВЛЕНСК   \n",
       "...               ...                  ...                   ...   \n",
       "28490  Минск - Москва              ТОЛОЧИН    МИНСК-ПАССАЖИРСКИЙ   \n",
       "28491  Минск - Москва              ТОЛОЧИН    МОСКВА БЕЛОРУССКАЯ   \n",
       "28492  Минск - Москва              ТОЛОЧИН    МОСКВА БЕЛОРУССКАЯ   \n",
       "28493  Минск - Москва              ТОЛОЧИН      ОРША-ЦЕНТРАЛЬНАЯ   \n",
       "28494  Минск - Москва              ТОЛОЧИН  СМОЛЕНСК ЦЕНТРАЛЬНЫЙ   \n",
       "\n",
       "                                 corr  nits_id  flows  in_project  \\\n",
       "0         Адлер - Армавир Туапсинский      858     72          72   \n",
       "1         Адлер - Армавир Туапсинский     2146    304           0   \n",
       "2               Адлер - Белореченская      858     17          17   \n",
       "3               Адлер - Белореченская     2146     73           0   \n",
       "4                 Адлер - Богоявленск     1112      1           0   \n",
       "...                               ...      ...    ...         ...   \n",
       "28490    Толочин - Минск-Пассажирский      176   3070           0   \n",
       "28491    Толочин - Москва Белорусская      179   1103        1103   \n",
       "28492    Толочин - Москва Белорусская      959      2           0   \n",
       "28493      Толочин - Орша-Центральная      179      1           1   \n",
       "28494  Толочин - Смоленск Центральный      179     15          15   \n",
       "\n",
       "       not_included  all_flows  \n",
       "0                 0          0  \n",
       "1               304        304  \n",
       "2                 0          0  \n",
       "3                73         73  \n",
       "4                 1          1  \n",
       "...             ...        ...  \n",
       "28490          3070          0  \n",
       "28491             0          0  \n",
       "28492             2          0  \n",
       "28493             0          0  \n",
       "28494             0          0  \n",
       "\n",
       "[28495 rows x 9 columns]"
      ]
     },
     "execution_count": 51,
     "metadata": {},
     "output_type": "execute_result"
    }
   ],
   "source": [
    "routes_and_corrs"
   ]
  },
  {
   "cell_type": "code",
   "execution_count": 55,
   "metadata": {},
   "outputs": [],
   "source": [
    "routes_flows = pd.read_excel('/Users/eugenia/rail_flows.xlsx')\n",
    "routes = routes_flows[['Маршрут', 'Корреспонденция']]\n",
    "routes.columns = ['route', 'corr']"
   ]
  },
  {
   "cell_type": "code",
   "execution_count": 131,
   "metadata": {},
   "outputs": [
    {
     "data": {
      "application/vnd.jupyter.widget-view+json": {
       "model_id": "9fd3bd49f5594a6db9bbacfb82303677",
       "version_major": 2,
       "version_minor": 0
      },
      "text/plain": [
       "HBox(children=(IntProgress(value=0, max=16287), HTML(value='')))"
      ]
     },
     "metadata": {},
     "output_type": "display_data"
    },
    {
     "name": "stdout",
     "output_type": "stream",
     "text": [
      "\n"
     ]
    }
   ],
   "source": [
    "flows_grouped = flows.groupby(by=['plo_source_flow_name', 'plo_target_flow_name', 'nits_id'], as_index=False)['flows'].sum()\n",
    "flows_grouped = flows_grouped[-flows_grouped.nits_id.isin(list_of_codes)] # здесь все ИНЫЕ поезда, есть номера поездов\n",
    "flows_grouped = flows_grouped.groupby(by=['plo_source_flow_name', 'plo_target_flow_name'], as_index=False)['flows'].sum()\n",
    "with tqdm(total=len(routes_and_corrs)) as pbar:\n",
    "    for ind, row in routes_and_corrs.iterrows():\n",
    "        try:\n",
    "            routes_and_corrs['other_flows'][ind] =  flows_grouped[(flows_grouped['plo_source_flow_name'] == row['plo_source_flow_name']) & (flows_grouped['plo_target_flow_name'] == row['plo_target_flow_name'])]['flows']\n",
    "        except ValueError: pass\n",
    "        pbar.update(1)"
   ]
  },
  {
   "cell_type": "code",
   "execution_count": 169,
   "metadata": {},
   "outputs": [
    {
     "data": {
      "application/vnd.jupyter.widget-view+json": {
       "model_id": "97bceebcae7143ee90cd407082323132",
       "version_major": 2,
       "version_minor": 0
      },
      "text/plain": [
       "HBox(children=(IntProgress(value=0, max=16287), HTML(value='')))"
      ]
     },
     "metadata": {},
     "output_type": "display_data"
    },
    {
     "name": "stdout",
     "output_type": "stream",
     "text": [
      "\n"
     ]
    }
   ],
   "source": [
    "flows_grouped1 = flows.groupby(by=['plo_source_flow_name', 'plo_target_flow_name'], as_index=False)['flows'].sum()\n",
    "routes_and_corrs['all_flows'] = 0\n",
    "with tqdm(total=len(routes_and_corrs)) as pbar:\n",
    "    for ind, row in routes_and_corrs.iterrows():\n",
    "        routes_and_corrs['all_flows'][ind] = flows_grouped1[(flows_grouped1['plo_source_flow_name'] == row['plo_source_flow_name']) & (flows_grouped1['plo_target_flow_name'] == row['plo_target_flow_name'])]['flows'].sum()\n",
    "        pbar.update(1)"
   ]
  },
  {
   "cell_type": "code",
   "execution_count": 171,
   "metadata": {},
   "outputs": [],
   "source": [
    "rep = routes_and_corrs[['route',\n",
    "                       'corr',\n",
    "                       'in_project',\n",
    "                       'not_included',\n",
    "                       'all_flows']]"
   ]
  },
  {
   "cell_type": "code",
   "execution_count": null,
   "metadata": {},
   "outputs": [],
   "source": [
    "rep.columns = ['Маршрут', \n",
    "               'Корреспонденция',  \n",
    "               'Потоки на маршрутах, отнесенных к проекту', \n",
    "               'Потоки на маршрутах, которые должны быть отнесены к проекту', \n",
    "               'Все потоки']"
   ]
  },
  {
   "cell_type": "code",
   "execution_count": 173,
   "metadata": {},
   "outputs": [],
   "source": [
    "rep.to_excel('flows_1511.xlsx')"
   ]
  }
 ],
 "metadata": {
  "kernelspec": {
   "display_name": "Python 3",
   "language": "python",
   "name": "python3"
  },
  "language_info": {
   "codemirror_mode": {
    "name": "ipython",
    "version": 3
   },
   "file_extension": ".py",
   "mimetype": "text/x-python",
   "name": "python",
   "nbconvert_exporter": "python",
   "pygments_lexer": "ipython3",
   "version": "3.7.4"
  }
 },
 "nbformat": 4,
 "nbformat_minor": 4
}
