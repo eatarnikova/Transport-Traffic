{
 "cells": [
  {
   "cell_type": "code",
   "execution_count": 3,
   "metadata": {},
   "outputs": [],
   "source": [
    "import pandas as pd\n",
    "import numpy as np"
   ]
  },
  {
   "cell_type": "markdown",
   "metadata": {},
   "source": [
    "### Сводная таблица №1:\n",
    "Все потоки на станциях Рижского направления с учетом подтипов билетов, признака наличия льгот и типов поездов.\n"
   ]
  },
  {
   "cell_type": "code",
   "execution_count": 129,
   "metadata": {},
   "outputs": [],
   "source": [
    "data = pd.read_excel('/Users/eugenia/Downloads/2019 ноя-дек.xlsb', engine = 'pyxlsb')"
   ]
  },
  {
   "cell_type": "code",
   "execution_count": 130,
   "metadata": {},
   "outputs": [
    {
     "data": {
      "text/html": [
       "<div>\n",
       "<style scoped>\n",
       "    .dataframe tbody tr th:only-of-type {\n",
       "        vertical-align: middle;\n",
       "    }\n",
       "\n",
       "    .dataframe tbody tr th {\n",
       "        vertical-align: top;\n",
       "    }\n",
       "\n",
       "    .dataframe thead th {\n",
       "        text-align: right;\n",
       "    }\n",
       "</style>\n",
       "<table border=\"1\" class=\"dataframe\">\n",
       "  <thead>\n",
       "    <tr style=\"text-align: right;\">\n",
       "      <th></th>\n",
       "      <th>O2. Кол-во отправленных пассажиров</th>\n",
       "      <th>Отчетный год</th>\n",
       "      <th>Отчетный месяц</th>\n",
       "      <th>Группа льгот ЦО-22 РЖД</th>\n",
       "      <th>Размер скидки текстом</th>\n",
       "      <th>Профиль льготы</th>\n",
       "      <th>Рынок</th>\n",
       "      <th>Полигон</th>\n",
       "      <th>Код станции отправления</th>\n",
       "      <th>Наименование станции отправления</th>\n",
       "      <th>Регион станции отправления</th>\n",
       "      <th>Код станции назначения</th>\n",
       "      <th>Наименование станции назначения</th>\n",
       "      <th>Регион станции назначения</th>\n",
       "      <th>Подтип билета</th>\n",
       "      <th>Исходный билет</th>\n",
       "      <th>Признак \"Туда и обратно\"</th>\n",
       "      <th>Категория поезда</th>\n",
       "    </tr>\n",
       "  </thead>\n",
       "  <tbody>\n",
       "    <tr>\n",
       "      <th>0</th>\n",
       "      <td>1.0</td>\n",
       "      <td>2019</td>\n",
       "      <td>ноябрь</td>\n",
       "      <td>Вне набора социальн.услуг</td>\n",
       "      <td>100% СКИДКИ</td>\n",
       "      <td>ВОХР ЖД РФ</td>\n",
       "      <td>БМО</td>\n",
       "      <td>МТУ</td>\n",
       "      <td>2000007</td>\n",
       "      <td>МОСКВА КИЕВСКАЯ</td>\n",
       "      <td>г. Москва</td>\n",
       "      <td>2000471</td>\n",
       "      <td>БЕКАСОВО-СОРТ.</td>\n",
       "      <td>г. Москва</td>\n",
       "      <td>Разовый</td>\n",
       "      <td>Пригородный ЖД билет</td>\n",
       "      <td>Нет</td>\n",
       "      <td>Пригородный пассажирский поезд</td>\n",
       "    </tr>\n",
       "    <tr>\n",
       "      <th>1</th>\n",
       "      <td>1.0</td>\n",
       "      <td>2019</td>\n",
       "      <td>ноябрь</td>\n",
       "      <td>Вне набора социальн.услуг</td>\n",
       "      <td>100% СКИДКИ</td>\n",
       "      <td>ВОХР ЖД РФ</td>\n",
       "      <td>БМО</td>\n",
       "      <td>МТУ</td>\n",
       "      <td>2000082</td>\n",
       "      <td>КУБИНКА 1</td>\n",
       "      <td>Московская область</td>\n",
       "      <td>2000471</td>\n",
       "      <td>БЕКАСОВО-СОРТ.</td>\n",
       "      <td>г. Москва</td>\n",
       "      <td>Разовый</td>\n",
       "      <td>Пригородный ЖД билет</td>\n",
       "      <td>Нет</td>\n",
       "      <td>Пригородный пассажирский поезд</td>\n",
       "    </tr>\n",
       "    <tr>\n",
       "      <th>2</th>\n",
       "      <td>1.0</td>\n",
       "      <td>2019</td>\n",
       "      <td>ноябрь</td>\n",
       "      <td>Вне набора социальн.услуг</td>\n",
       "      <td>100% СКИДКИ</td>\n",
       "      <td>ВОХР ЖД РФ</td>\n",
       "      <td>БМО</td>\n",
       "      <td>МТУ</td>\n",
       "      <td>2000612</td>\n",
       "      <td>ИВАНЦЕВО</td>\n",
       "      <td>Московская область</td>\n",
       "      <td>2001077</td>\n",
       "      <td>ИКША</td>\n",
       "      <td>Московская область</td>\n",
       "      <td>Разовый</td>\n",
       "      <td>Пригородный ЖД билет</td>\n",
       "      <td>Да</td>\n",
       "      <td>Пригородный пассажирский поезд</td>\n",
       "    </tr>\n",
       "    <tr>\n",
       "      <th>3</th>\n",
       "      <td>5.0</td>\n",
       "      <td>2019</td>\n",
       "      <td>ноябрь</td>\n",
       "      <td>Вне набора социальн.услуг</td>\n",
       "      <td>100% СКИДКИ</td>\n",
       "      <td>ВОХР ЖД РФ</td>\n",
       "      <td>БМО</td>\n",
       "      <td>МТУ</td>\n",
       "      <td>2000912</td>\n",
       "      <td>ОРЕХОВО-ЗУЕВО</td>\n",
       "      <td>Московская область</td>\n",
       "      <td>2000920</td>\n",
       "      <td>АЛЕКСАНДРОВ 1</td>\n",
       "      <td>Владимирская область</td>\n",
       "      <td>Разовый</td>\n",
       "      <td>Пригородный ЖД билет</td>\n",
       "      <td>Нет</td>\n",
       "      <td>Пригородный пассажирский поезд</td>\n",
       "    </tr>\n",
       "    <tr>\n",
       "      <th>4</th>\n",
       "      <td>1.0</td>\n",
       "      <td>2019</td>\n",
       "      <td>ноябрь</td>\n",
       "      <td>Вне набора социальн.услуг</td>\n",
       "      <td>100% СКИДКИ</td>\n",
       "      <td>ВОХР ЖД РФ</td>\n",
       "      <td>БМО</td>\n",
       "      <td>МТУ</td>\n",
       "      <td>2000920</td>\n",
       "      <td>АЛЕКСАНДРОВ 1</td>\n",
       "      <td>Владимирская область</td>\n",
       "      <td>2000912</td>\n",
       "      <td>ОРЕХОВО-ЗУЕВО</td>\n",
       "      <td>Московская область</td>\n",
       "      <td>Разовый</td>\n",
       "      <td>Пригородный ЖД билет</td>\n",
       "      <td>Нет</td>\n",
       "      <td>Пригородный пассажирский поезд</td>\n",
       "    </tr>\n",
       "  </tbody>\n",
       "</table>\n",
       "</div>"
      ],
      "text/plain": [
       "   O2. Кол-во отправленных пассажиров  Отчетный год Отчетный месяц  \\\n",
       "0                                 1.0          2019         ноябрь   \n",
       "1                                 1.0          2019         ноябрь   \n",
       "2                                 1.0          2019         ноябрь   \n",
       "3                                 5.0          2019         ноябрь   \n",
       "4                                 1.0          2019         ноябрь   \n",
       "\n",
       "      Группа льгот ЦО-22 РЖД Размер скидки текстом Профиль льготы Рынок  \\\n",
       "0  Вне набора социальн.услуг           100% СКИДКИ     ВОХР ЖД РФ   БМО   \n",
       "1  Вне набора социальн.услуг           100% СКИДКИ     ВОХР ЖД РФ   БМО   \n",
       "2  Вне набора социальн.услуг           100% СКИДКИ     ВОХР ЖД РФ   БМО   \n",
       "3  Вне набора социальн.услуг           100% СКИДКИ     ВОХР ЖД РФ   БМО   \n",
       "4  Вне набора социальн.услуг           100% СКИДКИ     ВОХР ЖД РФ   БМО   \n",
       "\n",
       "  Полигон  Код станции отправления Наименование станции отправления  \\\n",
       "0     МТУ                  2000007                  МОСКВА КИЕВСКАЯ   \n",
       "1     МТУ                  2000082                        КУБИНКА 1   \n",
       "2     МТУ                  2000612                         ИВАНЦЕВО   \n",
       "3     МТУ                  2000912                    ОРЕХОВО-ЗУЕВО   \n",
       "4     МТУ                  2000920                    АЛЕКСАНДРОВ 1   \n",
       "\n",
       "  Регион станции отправления  Код станции назначения  \\\n",
       "0                  г. Москва                 2000471   \n",
       "1         Московская область                 2000471   \n",
       "2         Московская область                 2001077   \n",
       "3         Московская область                 2000920   \n",
       "4       Владимирская область                 2000912   \n",
       "\n",
       "  Наименование станции назначения Регион станции назначения Подтип билета  \\\n",
       "0                  БЕКАСОВО-СОРТ.                 г. Москва       Разовый   \n",
       "1                  БЕКАСОВО-СОРТ.                 г. Москва       Разовый   \n",
       "2                            ИКША        Московская область       Разовый   \n",
       "3                   АЛЕКСАНДРОВ 1      Владимирская область       Разовый   \n",
       "4                   ОРЕХОВО-ЗУЕВО        Московская область       Разовый   \n",
       "\n",
       "         Исходный билет Признак \"Туда и обратно\"  \\\n",
       "0  Пригородный ЖД билет                      Нет   \n",
       "1  Пригородный ЖД билет                      Нет   \n",
       "2  Пригородный ЖД билет                       Да   \n",
       "3  Пригородный ЖД билет                      Нет   \n",
       "4  Пригородный ЖД билет                      Нет   \n",
       "\n",
       "                 Категория поезда  \n",
       "0  Пригородный пассажирский поезд  \n",
       "1  Пригородный пассажирский поезд  \n",
       "2  Пригородный пассажирский поезд  \n",
       "3  Пригородный пассажирский поезд  \n",
       "4  Пригородный пассажирский поезд  "
      ]
     },
     "execution_count": 130,
     "metadata": {},
     "output_type": "execute_result"
    }
   ],
   "source": [
    "data.head()"
   ]
  },
  {
   "cell_type": "code",
   "execution_count": 186,
   "metadata": {},
   "outputs": [],
   "source": [
    "corrs = pd.read_excel('fin_corrs.xlsx')"
   ]
  },
  {
   "cell_type": "code",
   "execution_count": 109,
   "metadata": {},
   "outputs": [
    {
     "data": {
      "text/html": [
       "<div>\n",
       "<style scoped>\n",
       "    .dataframe tbody tr th:only-of-type {\n",
       "        vertical-align: middle;\n",
       "    }\n",
       "\n",
       "    .dataframe tbody tr th {\n",
       "        vertical-align: top;\n",
       "    }\n",
       "\n",
       "    .dataframe thead th {\n",
       "        text-align: right;\n",
       "    }\n",
       "</style>\n",
       "<table border=\"1\" class=\"dataframe\">\n",
       "  <thead>\n",
       "    <tr style=\"text-align: right;\">\n",
       "      <th></th>\n",
       "      <th>source</th>\n",
       "      <th>target</th>\n",
       "      <th>year</th>\n",
       "    </tr>\n",
       "  </thead>\n",
       "  <tbody>\n",
       "    <tr>\n",
       "      <th>0</th>\n",
       "      <td>МОСКВА КУРСКАЯ</td>\n",
       "      <td>МОСКВА-КАЛАНЧЕВСКАЯ</td>\n",
       "      <td>2019</td>\n",
       "    </tr>\n",
       "    <tr>\n",
       "      <th>1</th>\n",
       "      <td>МОСКВА КУРСКАЯ</td>\n",
       "      <td>РИЖСКАЯ (РЖЕВСКАЯ)</td>\n",
       "      <td>2019</td>\n",
       "    </tr>\n",
       "    <tr>\n",
       "      <th>2</th>\n",
       "      <td>МОСКВА КУРСКАЯ</td>\n",
       "      <td>МОСКВА РИЖСКАЯ</td>\n",
       "      <td>2019</td>\n",
       "    </tr>\n",
       "    <tr>\n",
       "      <th>3</th>\n",
       "      <td>МОСКВА КУРСКАЯ</td>\n",
       "      <td>ДМИТРОВСКАЯ</td>\n",
       "      <td>2019</td>\n",
       "    </tr>\n",
       "    <tr>\n",
       "      <th>4</th>\n",
       "      <td>МОСКВА КУРСКАЯ</td>\n",
       "      <td>ГРАЖДАНСКАЯ</td>\n",
       "      <td>2019</td>\n",
       "    </tr>\n",
       "  </tbody>\n",
       "</table>\n",
       "</div>"
      ],
      "text/plain": [
       "           source               target  year\n",
       "0  МОСКВА КУРСКАЯ  МОСКВА-КАЛАНЧЕВСКАЯ  2019\n",
       "1  МОСКВА КУРСКАЯ   РИЖСКАЯ (РЖЕВСКАЯ)  2019\n",
       "2  МОСКВА КУРСКАЯ       МОСКВА РИЖСКАЯ  2019\n",
       "3  МОСКВА КУРСКАЯ          ДМИТРОВСКАЯ  2019\n",
       "4  МОСКВА КУРСКАЯ          ГРАЖДАНСКАЯ  2019"
      ]
     },
     "execution_count": 109,
     "metadata": {},
     "output_type": "execute_result"
    }
   ],
   "source": [
    "corrs.head()"
   ]
  },
  {
   "cell_type": "code",
   "execution_count": 119,
   "metadata": {},
   "outputs": [],
   "source": [
    "df = pd.DataFrame(columns = ['source', 'target', 'year', 'month', 'ticket', 'benefits', 'train'])\n",
    "for i in range(1,12):\n",
    "    data = pd.read_excel(f\"/Users/eugenia/Данные ЦППК/{i}.xlsb\", engine = 'pyxlsb')\n",
    "    data = data[['Отчетный год', 'Отчетный месяц', 'Наименование станции отправления', 'Наименование станции назначения', 'O2. Кол-во отправленных пассажиров', 'Группа льгот ЦО-22 РЖД', 'Категория поезда', 'Подтип билета']]\n",
    "    data['benefits'] = np.where(data['Группа льгот ЦО-22 РЖД']=='ПЛАТНЫЕ', 0, 1)\n",
    "    data['train'] = np.where(data['Категория поезда'] == 'Пригородный пассажирский поезд', 0, 1)\n",
    "    data.columns = ['year', 'month', 'source', 'target', 'flows', 'ben_type', 'train_cat', 'ticket', 'benefits', 'train']\n",
    "    data = data[(data['source'].isin(stations)) & (data['target'].isin(stations))]\n",
    "    fin = data.groupby(['source', 'target', 'year', 'month', 'ticket', 'benefits', 'train'], as_index=False)['flows'].sum()\n",
    "    df = pd.concat([df,fin])\n",
    "    #corrs = corrs.merge(fin, on=['source', 'target', 'year', 'month'], how = 'left')"
   ]
  },
  {
   "cell_type": "code",
   "execution_count": 124,
   "metadata": {},
   "outputs": [],
   "source": [
    "df = df.sort_values(by = ['source', 'target', 'year'])\n",
    "df.to_excel('table1.xlsx')"
   ]
  },
  {
   "cell_type": "markdown",
   "metadata": {},
   "source": [
    "### Сводная таблица №2:\n",
    "Потоки на станциях: 1) в рамках Рижского направления 2) транзитные потоки"
   ]
  },
  {
   "cell_type": "code",
   "execution_count": 10,
   "metadata": {},
   "outputs": [],
   "source": [
    "data = pd.read_csv('df_all.csv') # все потоки в разрезе год-месяц для всех ж/д станций (с учетом льгот)"
   ]
  },
  {
   "cell_type": "code",
   "execution_count": null,
   "metadata": {},
   "outputs": [],
   "source": [
    "month_data = data.groupby(['source','target','year','month'], as_index=False)['flows'].sum() # группировка по месяцам"
   ]
  },
  {
   "cell_type": "code",
   "execution_count": 4,
   "metadata": {},
   "outputs": [
    {
     "data": {
      "text/html": [
       "<div>\n",
       "<style scoped>\n",
       "    .dataframe tbody tr th:only-of-type {\n",
       "        vertical-align: middle;\n",
       "    }\n",
       "\n",
       "    .dataframe tbody tr th {\n",
       "        vertical-align: top;\n",
       "    }\n",
       "\n",
       "    .dataframe thead th {\n",
       "        text-align: right;\n",
       "    }\n",
       "</style>\n",
       "<table border=\"1\" class=\"dataframe\">\n",
       "  <thead>\n",
       "    <tr style=\"text-align: right;\">\n",
       "      <th></th>\n",
       "      <th>source</th>\n",
       "      <th>year</th>\n",
       "      <th>month</th>\n",
       "    </tr>\n",
       "  </thead>\n",
       "  <tbody>\n",
       "    <tr>\n",
       "      <th>0</th>\n",
       "      <td>МОСКВА КУРСКАЯ</td>\n",
       "      <td>2019</td>\n",
       "      <td>январь</td>\n",
       "    </tr>\n",
       "    <tr>\n",
       "      <th>1</th>\n",
       "      <td>МОСКВА КУРСКАЯ</td>\n",
       "      <td>2019</td>\n",
       "      <td>февраль</td>\n",
       "    </tr>\n",
       "    <tr>\n",
       "      <th>2</th>\n",
       "      <td>МОСКВА КУРСКАЯ</td>\n",
       "      <td>2019</td>\n",
       "      <td>март</td>\n",
       "    </tr>\n",
       "    <tr>\n",
       "      <th>3</th>\n",
       "      <td>МОСКВА КУРСКАЯ</td>\n",
       "      <td>2019</td>\n",
       "      <td>апрель</td>\n",
       "    </tr>\n",
       "    <tr>\n",
       "      <th>4</th>\n",
       "      <td>МОСКВА КУРСКАЯ</td>\n",
       "      <td>2019</td>\n",
       "      <td>май</td>\n",
       "    </tr>\n",
       "  </tbody>\n",
       "</table>\n",
       "</div>"
      ],
      "text/plain": [
       "           source  year    month\n",
       "0  МОСКВА КУРСКАЯ  2019   январь\n",
       "1  МОСКВА КУРСКАЯ  2019  февраль\n",
       "2  МОСКВА КУРСКАЯ  2019     март\n",
       "3  МОСКВА КУРСКАЯ  2019   апрель\n",
       "4  МОСКВА КУРСКАЯ  2019      май"
      ]
     },
     "execution_count": 4,
     "metadata": {},
     "output_type": "execute_result"
    }
   ],
   "source": [
    "corrs = pd.read_excel('fin_corrs.xlsx')\n",
    "corrs.head() "
   ]
  },
  {
   "cell_type": "code",
   "execution_count": 16,
   "metadata": {},
   "outputs": [
    {
     "data": {
      "text/plain": [
       "47"
      ]
     },
     "execution_count": 16,
     "metadata": {},
     "output_type": "execute_result"
    }
   ],
   "source": [
    "stations = list(corrs.source.drop_duplicates())\n",
    "len(stations) # все станции рижского направления"
   ]
  },
  {
   "cell_type": "code",
   "execution_count": 162,
   "metadata": {},
   "outputs": [],
   "source": [
    "list_rizhskoe = []\n",
    "list_transit = []\n",
    "for i, r in corrs.iterrows():\n",
    "    sub_data = month_data[(month_data['source'] == r['source']) &\n",
    "                          (month_data['year'] == r['year']) & \n",
    "                          (month_data['month'] == r['month'])]\n",
    "    new_list = [a for a in stations if a not in r['source']]\n",
    "    stations_data = sub_data[sub_data['target'].isin(new_list)] # фильтрация по списку станций - Рижское \n",
    "    transit_data = sub_data[~sub_data['target'].isin(stations)] # все транзитные потоки\n",
    "    list_rizhskoe.append(stations_data.flows.sum())\n",
    "    list_transit.append(transit_data.flows.sum())"
   ]
  },
  {
   "cell_type": "code",
   "execution_count": 163,
   "metadata": {},
   "outputs": [],
   "source": [
    "corrs['stations'] = list_rizhskoe\n",
    "corrs['transit'] = list_transit\n",
    "corrs.to_excel('table2.xlsx')"
   ]
  }
 ],
 "metadata": {
  "kernelspec": {
   "display_name": "Python 3",
   "language": "python",
   "name": "python3"
  },
  "language_info": {
   "codemirror_mode": {
    "name": "ipython",
    "version": 3
   },
   "file_extension": ".py",
   "mimetype": "text/x-python",
   "name": "python",
   "nbconvert_exporter": "python",
   "pygments_lexer": "ipython3",
   "version": "3.7.4"
  }
 },
 "nbformat": 4,
 "nbformat_minor": 4
}
